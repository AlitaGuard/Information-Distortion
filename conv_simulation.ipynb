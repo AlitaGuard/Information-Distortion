{
 "cells": [
  {
   "cell_type": "code",
   "execution_count": 1,
   "metadata": {},
   "outputs": [],
   "source": [
    "import numpy as np\n",
    "import matplotlib.pyplot as plt\n",
    "from scipy.interpolate import make_interp_spline"
   ]
  },
  {
   "cell_type": "code",
   "execution_count": 2,
   "metadata": {},
   "outputs": [],
   "source": [
    "N = 50; m = 3\n",
    "iterations = 100\n",
    "\n",
    "# X_base = np.random.uniform(size = (N, m))\n",
    "# X_base_blind = np.ones((N, m))\n",
    "c = np.zeros((iterations + 1, m))\n",
    "c0 = np.array([1, 2, 3])\n",
    "e = np.zeros((iterations, N, m))\n",
    "c[0] = np.array([1, 1, 1])\n",
    "\n",
    "payoff = np.zeros((iterations, N))\n"
   ]
  },
  {
   "cell_type": "code",
   "execution_count": 3,
   "metadata": {},
   "outputs": [],
   "source": [
    "def is_converged(r, blind = False, precision = 0.05):\n",
    "    \n",
    "    def dilute(e):\n",
    "        return np.sum(e ** (r)) + 1\n",
    "\n",
    "    if not blind: X_base = np.random.uniform(size = (N, m))\n",
    "    else: X_base = np.ones((N, m))\n",
    "\n",
    "    for t in range(iterations):\n",
    "        for i in range(N):\n",
    "            e[t, i] = c[t] * X_base[i] / np.linalg.norm(c[t] * X_base[i])\n",
    "            payoff[t, i] = 0\n",
    "            \n",
    "        for i in range(N):\n",
    "            for j in range(m):\n",
    "                payoff[t, i] += c0[j] * e[t, i, j] * X_base[i, j] / dilute(e[t].transpose()[j])\n",
    "\n",
    "        for j in range(m):\n",
    "            c[t + 1, j] = c0[j] / dilute(e[t].transpose()[j])\n",
    "\n",
    "    return np.all(np.abs(e[-1] - e[-2]) < precision)"
   ]
  },
  {
   "cell_type": "code",
   "execution_count": 4,
   "metadata": {},
   "outputs": [],
   "source": [
    "conv_prob = np.zeros(51)\n",
    "conv_prob_blind = np.zeros(51)"
   ]
  },
  {
   "cell_type": "code",
   "execution_count": 5,
   "metadata": {},
   "outputs": [],
   "source": [
    "for i in range(51):\n",
    "    alpha = 0.5 + i * 0.02\n",
    "    cp = 0\n",
    "    cp_blind = 0\n",
    "    for _ in range(100):\n",
    "        if is_converged(alpha): cp += 1\n",
    "        if is_converged(alpha, blind = True): cp_blind += 1\n",
    "    conv_prob[i] = cp / 100\n",
    "    conv_prob_blind[i] = cp_blind / 100"
   ]
  },
  {
   "cell_type": "code",
   "execution_count": 6,
   "metadata": {},
   "outputs": [
    {
     "data": {
      "image/png": "[encoded data removed]",
      "text/plain": [
       "<Figure size 432x288 with 1 Axes>"
      ]
     },
     "metadata": {
      "needs_background": "light"
     },
     "output_type": "display_data"
    }
   ],
   "source": [
    "plt.plot(np.arange(51) * 0.02 + 0.5, conv_prob, label = \"Basic scene\")\n",
    "plt.plot(np.arange(51) * 0.02 + 0.5, conv_prob_blind, label = \"Blind scene\", linestyle = \"--\")\n",
    "plt.legend()\n",
    "plt.xlabel(\"alpha\")\n",
    "plt.ylabel(\"Frequency of Convergence\")\n",
    "plt.show()"
   ]
  },
  {
   "cell_type": "code",
   "execution_count": 7,
   "metadata": {},
   "outputs": [
    {
     "data": {
      "text/plain": [
       "0.52"
      ]
     },
     "execution_count": 7,
     "metadata": {},
     "output_type": "execute_result"
    }
   ],
   "source": [
    "alpha = 0.5 + 15 * 0.05\n",
    "cp = cp_blind = 0\n",
    "for _ in range(50):\n",
    "    if is_converged(alpha): cp += 1\n",
    "cp / 50"
   ]
  },
  {
   "cell_type": "code",
   "execution_count": 8,
   "metadata": {},
   "outputs": [
    {
     "data": {
      "text/plain": [
       "array([1.  , 1.  , 1.  , 1.  , 1.  , 1.  , 1.  , 1.  , 1.  , 1.  , 1.  ,\n",
       "       1.  , 1.  , 1.  , 1.  , 1.  , 1.  , 1.  , 1.  , 1.  , 1.  , 1.  ,\n",
       "       1.  , 1.  , 1.  , 1.  , 1.  , 1.  , 1.  , 1.  , 1.  , 1.  , 0.98,\n",
       "       0.95, 0.89, 0.86, 0.7 , 0.61, 0.52, 0.38, 0.27, 0.21, 0.15, 0.07,\n",
       "       0.05, 0.05, 0.06, 0.01, 0.02, 0.  , 0.02])"
      ]
     },
     "execution_count": 8,
     "metadata": {},
     "output_type": "execute_result"
    }
   ],
   "source": [
    "conv_prob"
   ]
  },
  {
   "cell_type": "code",
   "execution_count": null,
   "metadata": {},
   "outputs": [],
   "source": []
  }
 ],
 "metadata": {
  "interpreter": {
   "hash": "b3ba2566441a7c06988d0923437866b63cedc61552a5af99d1f4fb67d367b25f"
  },
  "kernelspec": {
   "display_name": "Python 3.8.8 64-bit ('base': conda)",
   "language": "python",
   "name": "python3"
  },
  "language_info": {
   "codemirror_mode": {
    "name": "ipython",
    "version": 3
   },
   "file_extension": ".py",
   "mimetype": "text/x-python",
   "name": "python",
   "nbconvert_exporter": "python",
   "pygments_lexer": "ipython3",
   "version": "3.8.8"
  },
  "orig_nbformat": 4
 },
 "nbformat": 4,
 "nbformat_minor": 2
}
