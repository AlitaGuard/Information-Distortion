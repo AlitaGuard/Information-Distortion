{
 "cells": [
  {
   "cell_type": "code",
   "execution_count": 394,
   "metadata": {},
   "outputs": [],
   "source": [
    "import numpy as np\n",
    "import matplotlib.pyplot as plt"
   ]
  },
  {
   "cell_type": "code",
   "execution_count": 395,
   "metadata": {},
   "outputs": [],
   "source": [
    "N = 50; m = 3\n",
    "iterations = 100\n",
    "\n",
    "X_base = np.random.uniform(size = (N, m))\n",
    "X_base_blind = np.ones((N, m))\n",
    "c = np.zeros((iterations + 1, m))\n",
    "c0 = np.array([1, 2, 3])\n",
    "e = np.zeros((iterations, N, m))\n",
    "c[0] = np.array([1, 1, 1])\n",
    "\n",
    "payoff = np.zeros((iterations, N))\n",
    "\n",
    "def dilute(e):\n",
    "    return np.sum(e ** (1) + 1)"
   ]
  },
  {
   "cell_type": "code",
   "execution_count": 396,
   "metadata": {},
   "outputs": [
    {
     "data": {
      "text/plain": [
       "[<matplotlib.lines.Line2D at 0x1fea1b35c40>]"
      ]
     },
     "execution_count": 396,
     "metadata": {},
     "output_type": "execute_result"
    },
    {
     "data": {
      "image/png": "[encoded data removed]",
      "text/plain": [
       "<Figure size 432x288 with 1 Axes>"
      ]
     },
     "metadata": {
      "needs_background": "light"
     },
     "output_type": "display_data"
    }
   ],
   "source": [
    "for t in range(iterations):\n",
    "    for i in range(N):\n",
    "        e[t, i] = c[t] * X_base[i] / np.linalg.norm(c[t] * X_base[i])\n",
    "        # payoff[t, i] = 0\n",
    "        \n",
    "    for i in range(N):\n",
    "        for j in range(m):\n",
    "            payoff[t, i] += c0[j] * e[t, i, j] * X_base[i, j] / dilute(e[t].transpose()[j])\n",
    "\n",
    "    for j in range(m):\n",
    "        c[t + 1, j] = c0[j] / dilute(e[t].transpose()[j])\n",
    "\n",
    "lambs = c.transpose()[1] / c.transpose()[0]\n",
    "plt.plot(lambs[:])\n",
    "\n",
    "# some = []\n",
    "# for t in range(iterations):\n",
    "#     some.append(e[t, 0, 1])\n",
    "# some\n",
    "\n",
    "# print(e[0])\n",
    "# print(np.sum(e[0], 0))"
   ]
  },
  {
   "cell_type": "code",
   "execution_count": 397,
   "metadata": {},
   "outputs": [
    {
     "data": {
      "text/plain": [
       "array([[0.02159468, 0.03927361, 0.03106444, ..., 0.02971317, 0.01258211,\n",
       "        0.00674562],\n",
       "       [0.02114746, 0.03950596, 0.03216821, ..., 0.03026779, 0.01498744,\n",
       "        0.00790425],\n",
       "       [0.02114066, 0.04037827, 0.03279898, ..., 0.030994  , 0.01452981,\n",
       "        0.0078752 ],\n",
       "       ...,\n",
       "       [0.02114307, 0.04022957, 0.03270347, ..., 0.03087088, 0.01463965,\n",
       "        0.00790129],\n",
       "       [0.02114307, 0.04022957, 0.03270347, ..., 0.03087088, 0.01463965,\n",
       "        0.00790129],\n",
       "       [0.02114307, 0.04022957, 0.03270347, ..., 0.03087088, 0.01463965,\n",
       "        0.00790129]])"
      ]
     },
     "execution_count": 397,
     "metadata": {},
     "output_type": "execute_result"
    },
    {
     "data": {
      "image/png": "[encoded data removed]",
      "text/plain": [
       "<Figure size 432x288 with 1 Axes>"
      ]
     },
     "metadata": {
      "needs_background": "light"
     },
     "output_type": "display_data"
    }
   ],
   "source": [
    "np.linalg.norm(e[-1, 9])\n",
    "\n",
    "# expected_payoff = np.array(payoff.shape)\n",
    "# for t in range(iterations):\n",
    "#     for i in range(N):\n",
    "#         for j in range(m):\n",
    "#             expected_payoff[t, i] += c0[j] * e[t, i, j] * X_base[i, j] / sum(e[t].transpose()[j])\n",
    "\n",
    "plt.plot(payoff.transpose()[0]) # 1st agent's payoff\n",
    "payoff"
   ]
  },
  {
   "cell_type": "code",
   "execution_count": 398,
   "metadata": {},
   "outputs": [],
   "source": [
    "c_blind = np.zeros((iterations + 1, m))\n",
    "e_blind = np.zeros((iterations, N, m))\n",
    "c_blind[0] = np.ones(m)\n",
    "\n",
    "payoff_blind = np.zeros((iterations, N))\n",
    "\n",
    "for t in range(iterations):\n",
    "    for i in range(N):\n",
    "        e_blind[t, i] = c_blind[t] * X_base_blind[i] / np.linalg.norm(c[t] * X_base_blind[i])\n",
    "        # payoff_blind[t, i] = 0\n",
    "        \n",
    "    for i in range(N):\n",
    "        for j in range(m):\n",
    "            payoff_blind[t, i] += c0[j] * e_blind[t, i, j] * X_base[i, j] / dilute(e_blind[t].transpose()[j])\n",
    "\n",
    "    for j in range(m):\n",
    "        c_blind[t + 1, j] = c0[j] * X_base_blind[i, j] / dilute(e_blind[t].transpose()[j]) # 注意这里有区别\n",
    "\n",
    "lambs_blind = c_blind.transpose()[1] / c_blind.transpose()[0]\n",
    "#plt.plot(lambs_blind[0:50])\n",
    "\n",
    "# plt.plot(payoff_blind.transpose()[0]) # 1st agent's payoff"
   ]
  },
  {
   "cell_type": "code",
   "execution_count": 399,
   "metadata": {},
   "outputs": [
    {
     "data": {
      "image/png": "[encoded data removed]",
      "text/plain": [
       "<Figure size 432x288 with 1 Axes>"
      ]
     },
     "metadata": {
      "needs_background": "light"
     },
     "output_type": "display_data"
    }
   ],
   "source": [
    "plt.plot(e[:, 0, 0], label = \"Basic scene\")\n",
    "plt.plot(e_blind[:, 0, 0], label = \"Blind scene\")\n",
    "plt.xlabel(\"Period t\")\n",
    "plt.ylabel(\"e_11^(t)\")\n",
    "\n",
    "plt.legend()\n",
    "plt.show()"
   ]
  },
  {
   "cell_type": "code",
   "execution_count": 400,
   "metadata": {},
   "outputs": [
    {
     "name": "stdout",
     "output_type": "stream",
     "text": [
      "1.0\n"
     ]
    }
   ],
   "source": [
    "# Solving for social optimum\n",
    "\n",
    "def ind_utility(i, e_opt):\n",
    "    uind = 0\n",
    "    for j in range(m):\n",
    "        uind += c0[j] * e_opt[i, j] * X_base[i, j] / dilute(e_opt.transpose()[j])\n",
    "    return uind\n",
    "\n",
    "def gen_vector(N = N, m = m):\n",
    "    vec = np.random.uniform(0, 1, (N, m))\n",
    "    for i in range(N):\n",
    "        vec[i] = vec[i] / np.linalg.norm(vec[i])\n",
    "    return vec\n",
    "\n",
    "print(np.linalg.norm(gen_vector()[1]))\n",
    "\n",
    "\n",
    "# rep = 5000\n",
    "# ind_u_opt = np.zeros((rep, N))\n",
    "\n",
    "# for k in range(rep):\n",
    "#     gen_v = gen_vector()\n",
    "#     for i in range(N):\n",
    "#         ind_u_opt[k, i] = ind_utility(i, gen_v)\n",
    "\n",
    "# sum_u_opt = np.sum(ind_u_opt, 1)\n",
    "\n"
   ]
  },
  {
   "cell_type": "code",
   "execution_count": 401,
   "metadata": {},
   "outputs": [],
   "source": [
    "# plt.hist(sum_u_opt, bins = 100)\n",
    "# np.max(sum_u_opt)"
   ]
  },
  {
   "cell_type": "markdown",
   "metadata": {},
   "source": [
    "$3.206591116690906$\n"
   ]
  },
  {
   "cell_type": "code",
   "execution_count": 402,
   "metadata": {},
   "outputs": [],
   "source": [
    "# Solve under the ground truth\n",
    "e_truth = c0 * X_base\n",
    "for i in range(N):\n",
    "    e_truth[i] /= np.linalg.norm(e_truth[i])\n",
    "\n",
    "ind_u_truth = np.array([ind_utility(i, e_truth) for i in range(N)])\n",
    "sum_u_truth = np.sum(ind_u_truth)"
   ]
  },
  {
   "cell_type": "code",
   "execution_count": 403,
   "metadata": {},
   "outputs": [
    {
     "data": {
      "text/plain": [
       "True"
      ]
     },
     "execution_count": 403,
     "metadata": {},
     "output_type": "execute_result"
    },
    {
     "data": {
      "image/png": "[encoded data removed]",
      "text/plain": [
       "<Figure size 576x288 with 2 Axes>"
      ]
     },
     "metadata": {
      "needs_background": "light"
     },
     "output_type": "display_data"
    }
   ],
   "source": [
    "# Individual payoff comparison\n",
    "\n",
    "fig = plt.figure(figsize = (8,4))\n",
    "\n",
    "ax1 = fig.add_subplot(1,2,1)\n",
    "# ax1.bar(range(N), ind_u_opt[np.argmax(sum_u_opt)])\n",
    "# ax1.bar(range(N), ind_u_truth)\n",
    "ax1.bar(range(N), payoff[-1])\n",
    "ax1.bar(range(N), payoff_blind[-1])\n",
    "\n",
    "ax2 = fig.add_subplot(1,2,2)\n",
    "ax2.bar(range(N), np.sqrt(np.sum(X_base**2 * c0**2, 1))) # character * c !\n",
    "\n",
    "np.all(payoff[-1] >= payoff_blind[-1])"
   ]
  },
  {
   "cell_type": "code",
   "execution_count": 404,
   "metadata": {},
   "outputs": [
    {
     "name": "stdout",
     "output_type": "stream",
     "text": [
      "1.171824952293278 0.9799301354797973 1.1678267531030426\n"
     ]
    },
    {
     "data": {
      "image/png": "[encoded data removed]",
      "text/plain": [
       "<Figure size 432x288 with 1 Axes>"
      ]
     },
     "metadata": {
      "needs_background": "light"
     },
     "output_type": "display_data"
    }
   ],
   "source": [
    "# Total payoff comparison\n",
    "\n",
    "plt.plot(np.sum(payoff, 1))\n",
    "plt.plot(np.sum(payoff_blind, 1))\n",
    "\n",
    "\n",
    "# plt.plot([3]*iterations, color = \"white\")\n",
    "# plt.plot([3.3]*iterations, color = \"white\")\n",
    "plt.xlabel(\"Total payoff of agents in period t\")\n",
    "print(np.sum(payoff[-1]), np.sum(payoff_blind[-1]), sum_u_truth)\n"
   ]
  },
  {
   "cell_type": "code",
   "execution_count": 405,
   "metadata": {},
   "outputs": [
    {
     "data": {
      "text/plain": [
       "27.13411068539689"
      ]
     },
     "execution_count": 405,
     "metadata": {},
     "output_type": "execute_result"
    }
   ],
   "source": [
    "# Examination of convergency\n",
    "sum(e[-1, :, 1])"
   ]
  }
 ],
 "metadata": {
  "interpreter": {
   "hash": "b3ba2566441a7c06988d0923437866b63cedc61552a5af99d1f4fb67d367b25f"
  },
  "kernelspec": {
   "display_name": "Python 3.8.8 64-bit ('base': conda)",
   "language": "python",
   "name": "python3"
  },
  "language_info": {
   "codemirror_mode": {
    "name": "ipython",
    "version": 3
   },
   "file_extension": ".py",
   "mimetype": "text/x-python",
   "name": "python",
   "nbconvert_exporter": "python",
   "pygments_lexer": "ipython3",
   "version": "3.8.8"
  },
  "orig_nbformat": 4
 },
 "nbformat": 4,
 "nbformat_minor": 2
}
