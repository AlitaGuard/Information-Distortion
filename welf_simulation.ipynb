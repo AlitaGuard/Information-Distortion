{
 "cells": [
  {
   "cell_type": "code",
   "execution_count": 1,
   "metadata": {},
   "outputs": [],
   "source": [
    "import numpy as np\n",
    "import matplotlib.pyplot as plt"
   ]
  },
  {
   "cell_type": "code",
   "execution_count": 2,
   "metadata": {},
   "outputs": [],
   "source": [
    "N = 50; m = 3\n",
    "iterations = 100\n",
    "\n",
    "# X_base = np.random.uniform(size = (N, m))\n",
    "# X_base_blind = np.ones((N, m))\n",
    "c = np.zeros((iterations + 1, m))\n",
    "\n",
    "e = np.zeros((iterations, N, m))\n",
    "c[0] = np.array([1, 1, 1])\n",
    "\n",
    "def dilute(e):\n",
    "    return np.sum(e ** (1) + 1)"
   ]
  },
  {
   "cell_type": "code",
   "execution_count": 59,
   "metadata": {},
   "outputs": [],
   "source": [
    "def welfare(X_base, blind = False):\n",
    "\n",
    "    payoff = np.zeros((iterations, N))\n",
    "\n",
    "    if not blind:\n",
    "        for t in range(iterations):\n",
    "            for i in range(N):\n",
    "                e[t, i] = c[t] * X_base[i] / np.linalg.norm(c[t] * X_base[i])\n",
    "                # payoff[t, i] = 0\n",
    "                \n",
    "            for i in range(N):\n",
    "                for j in range(m):\n",
    "                    payoff[t, i] += c0[j] * e[t, i, j] * X_base[i, j] / dilute(e[t].transpose()[j])\n",
    "\n",
    "            for j in range(m):\n",
    "                c[t + 1, j] = c0[j] / dilute(e[t].transpose()[j])\n",
    "\n",
    "    else:\n",
    "        X_base_blind = np.ones((N, m))\n",
    "        for t in range(iterations):\n",
    "            for i in range(N):\n",
    "                e[t, i] = c[t] * X_base_blind[i] / np.linalg.norm(c[t] * X_base_blind[i])\n",
    "                # payoff[t, i] = 0\n",
    "                \n",
    "            for i in range(N):\n",
    "                for j in range(m):\n",
    "                    payoff[t, i] += c0[j] * e[t, i, j] * X_base[i, j] / dilute(e[t].transpose()[j])\n",
    "\n",
    "            for j in range(m):\n",
    "                c[t + 1, j] = c0[j] / dilute(e[t].transpose()[j])\n",
    "    return payoff\n"
   ]
  },
  {
   "cell_type": "code",
   "execution_count": 60,
   "metadata": {},
   "outputs": [
    {
     "data": {
      "text/plain": [
       "True"
      ]
     },
     "execution_count": 60,
     "metadata": {},
     "output_type": "execute_result"
    }
   ],
   "source": [
    "ind = True\n",
    "\n",
    "for _ in range(100):\n",
    "    c0 = np.random.uniform(size = m)\n",
    "    X = np.random.uniform(size = (N, m))\n",
    "    ind = ind and np.all(welfare(X)[-1] >= welfare(X, blind = True)[-1])\n",
    "\n",
    "ind"
   ]
  },
  {
   "cell_type": "code",
   "execution_count": 49,
   "metadata": {},
   "outputs": [
    {
     "data": {
      "image/png": "[encoded data removed]",
      "text/plain": [
       "<Figure size 432x288 with 1 Axes>"
      ]
     },
     "metadata": {
      "needs_background": "light"
     },
     "output_type": "display_data"
    }
   ],
   "source": [
    "X = np.random.uniform(size = (N, m))\n",
    "plt.bar(np.arange(N)+1, welfare(X)[-1], label = \"Basic scene\")\n",
    "plt.bar(np.arange(N)+1, welfare(X, blind = True)[-1], label = \"Blind scene\")\n",
    "plt.xlabel(\"Agent's Index\")\n",
    "plt.ylabel(\"Utility\")\n",
    "plt.ylim((0, 0.0065))\n",
    "plt.legend()\n",
    "plt.show()"
   ]
  }
 ],
 "metadata": {
  "interpreter": {
   "hash": "b3ba2566441a7c06988d0923437866b63cedc61552a5af99d1f4fb67d367b25f"
  },
  "kernelspec": {
   "display_name": "Python 3.8.8 64-bit ('base': conda)",
   "language": "python",
   "name": "python3"
  },
  "language_info": {
   "codemirror_mode": {
    "name": "ipython",
    "version": 3
   },
   "file_extension": ".py",
   "mimetype": "text/x-python",
   "name": "python",
   "nbconvert_exporter": "python",
   "pygments_lexer": "ipython3",
   "version": "3.8.8"
  },
  "orig_nbformat": 4
 },
 "nbformat": 4,
 "nbformat_minor": 2
}
